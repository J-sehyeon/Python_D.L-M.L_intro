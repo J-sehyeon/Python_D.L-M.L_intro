{
 "cells": [
  {
   "cell_type": "markdown",
   "metadata": {},
   "source": [
    "#### 머신러닝\n",
    "> ###### 사람이 어떤 규칙을 정하는 것이 아니라, 컴퓨터가 스스로 데이터를 학습하여 문제를 해결하는 과정을 말한다."
   ]
  },
  {
   "cell_type": "markdown",
   "metadata": {},
   "source": [
    "- ###### 지도학습은 설명 변수(X) 와 목표 변수(Y) 모두가 주어졌을 때 X와 Y사이의 관계식을 알아내는 머신러닝 알고리즘을 말한다. 이를 통해 새로운 X 데이터에 대하여 목표 변수인 Y를 예측할 수 있다.\n",
    "- ###### 비지도학습은 Y가 주어지지 않고 X 데이터만을 통해 이들 사이에 존재하는 패턴 또는 규칙을 찾는다. 예로는 비슷한 데이터들을 묶어서 그룹을 만드는 군집(clustering) 분석을 예로 들 수 있다. "
   ]
  }
 ],
 "metadata": {
  "language_info": {
   "name": "python"
  }
 },
 "nbformat": 4,
 "nbformat_minor": 2
}
